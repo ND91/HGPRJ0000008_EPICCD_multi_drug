{
 "cells": [
  {
   "cell_type": "code",
   "execution_count": 1,
   "id": "f5c74108-2d43-4270-b2d8-55dda34ee77a",
   "metadata": {},
   "outputs": [],
   "source": [
    "from sklearn.metrics import roc_auc_score\n",
    "from sklearn.metrics import RocCurveDisplay\n",
    "import matplotlib.pyplot as plt\n",
    "import pandas as pd"
   ]
  },
  {
   "cell_type": "code",
   "execution_count": 2,
   "id": "2f248623-1c50-4412-ae2b-feb1da32b136",
   "metadata": {},
   "outputs": [
    {
     "data": {
      "text/html": [
       "<div>\n",
       "<style scoped>\n",
       "    .dataframe tbody tr th:only-of-type {\n",
       "        vertical-align: middle;\n",
       "    }\n",
       "\n",
       "    .dataframe tbody tr th {\n",
       "        vertical-align: top;\n",
       "    }\n",
       "\n",
       "    .dataframe thead th {\n",
       "        text-align: right;\n",
       "    }\n",
       "</style>\n",
       "<table border=\"1\" class=\"dataframe\">\n",
       "  <thead>\n",
       "    <tr style=\"text-align: right;\">\n",
       "      <th></th>\n",
       "      <th>SampleID</th>\n",
       "      <th>Actual</th>\n",
       "      <th>Actual_bin</th>\n",
       "      <th>Model2</th>\n",
       "      <th>Model10</th>\n",
       "    </tr>\n",
       "  </thead>\n",
       "  <tbody>\n",
       "    <tr>\n",
       "      <th>0</th>\n",
       "      <td>F171</td>\n",
       "      <td>NR</td>\n",
       "      <td>0</td>\n",
       "      <td>0.482451</td>\n",
       "      <td>0.558536</td>\n",
       "    </tr>\n",
       "    <tr>\n",
       "      <th>1</th>\n",
       "      <td>F193</td>\n",
       "      <td>NR</td>\n",
       "      <td>0</td>\n",
       "      <td>0.487318</td>\n",
       "      <td>0.627743</td>\n",
       "    </tr>\n",
       "    <tr>\n",
       "      <th>2</th>\n",
       "      <td>F196</td>\n",
       "      <td>NR</td>\n",
       "      <td>0</td>\n",
       "      <td>0.469323</td>\n",
       "      <td>0.511365</td>\n",
       "    </tr>\n",
       "    <tr>\n",
       "      <th>3</th>\n",
       "      <td>F216</td>\n",
       "      <td>R</td>\n",
       "      <td>1</td>\n",
       "      <td>0.435062</td>\n",
       "      <td>0.626339</td>\n",
       "    </tr>\n",
       "    <tr>\n",
       "      <th>4</th>\n",
       "      <td>F223</td>\n",
       "      <td>R</td>\n",
       "      <td>1</td>\n",
       "      <td>0.434437</td>\n",
       "      <td>0.430856</td>\n",
       "    </tr>\n",
       "    <tr>\n",
       "      <th>5</th>\n",
       "      <td>F225</td>\n",
       "      <td>R</td>\n",
       "      <td>1</td>\n",
       "      <td>0.545535</td>\n",
       "      <td>0.445934</td>\n",
       "    </tr>\n",
       "    <tr>\n",
       "      <th>6</th>\n",
       "      <td>F246</td>\n",
       "      <td>R</td>\n",
       "      <td>1</td>\n",
       "      <td>0.366803</td>\n",
       "      <td>0.534663</td>\n",
       "    </tr>\n",
       "    <tr>\n",
       "      <th>7</th>\n",
       "      <td>F281</td>\n",
       "      <td>NR</td>\n",
       "      <td>0</td>\n",
       "      <td>0.477109</td>\n",
       "      <td>0.598888</td>\n",
       "    </tr>\n",
       "    <tr>\n",
       "      <th>8</th>\n",
       "      <td>F288</td>\n",
       "      <td>R</td>\n",
       "      <td>1</td>\n",
       "      <td>0.409175</td>\n",
       "      <td>0.385219</td>\n",
       "    </tr>\n",
       "    <tr>\n",
       "      <th>9</th>\n",
       "      <td>F291</td>\n",
       "      <td>R</td>\n",
       "      <td>1</td>\n",
       "      <td>0.528094</td>\n",
       "      <td>0.773590</td>\n",
       "    </tr>\n",
       "    <tr>\n",
       "      <th>10</th>\n",
       "      <td>F300</td>\n",
       "      <td>R</td>\n",
       "      <td>1</td>\n",
       "      <td>0.562800</td>\n",
       "      <td>0.428659</td>\n",
       "    </tr>\n",
       "    <tr>\n",
       "      <th>11</th>\n",
       "      <td>F333</td>\n",
       "      <td>R</td>\n",
       "      <td>1</td>\n",
       "      <td>0.318543</td>\n",
       "      <td>0.519301</td>\n",
       "    </tr>\n",
       "    <tr>\n",
       "      <th>12</th>\n",
       "      <td>F359</td>\n",
       "      <td>NR</td>\n",
       "      <td>0</td>\n",
       "      <td>0.482299</td>\n",
       "      <td>0.579075</td>\n",
       "    </tr>\n",
       "    <tr>\n",
       "      <th>13</th>\n",
       "      <td>F368</td>\n",
       "      <td>R</td>\n",
       "      <td>1</td>\n",
       "      <td>0.334350</td>\n",
       "      <td>0.525945</td>\n",
       "    </tr>\n",
       "    <tr>\n",
       "      <th>14</th>\n",
       "      <td>F369</td>\n",
       "      <td>NR</td>\n",
       "      <td>0</td>\n",
       "      <td>0.317077</td>\n",
       "      <td>0.351710</td>\n",
       "    </tr>\n",
       "    <tr>\n",
       "      <th>15</th>\n",
       "      <td>F384</td>\n",
       "      <td>R</td>\n",
       "      <td>1</td>\n",
       "      <td>0.670429</td>\n",
       "      <td>0.660206</td>\n",
       "    </tr>\n",
       "    <tr>\n",
       "      <th>16</th>\n",
       "      <td>F386</td>\n",
       "      <td>R</td>\n",
       "      <td>1</td>\n",
       "      <td>0.697283</td>\n",
       "      <td>0.457395</td>\n",
       "    </tr>\n",
       "    <tr>\n",
       "      <th>17</th>\n",
       "      <td>F387</td>\n",
       "      <td>NR</td>\n",
       "      <td>0</td>\n",
       "      <td>0.488391</td>\n",
       "      <td>0.560601</td>\n",
       "    </tr>\n",
       "    <tr>\n",
       "      <th>18</th>\n",
       "      <td>F402</td>\n",
       "      <td>R</td>\n",
       "      <td>1</td>\n",
       "      <td>0.710156</td>\n",
       "      <td>0.682214</td>\n",
       "    </tr>\n",
       "    <tr>\n",
       "      <th>19</th>\n",
       "      <td>F404</td>\n",
       "      <td>R</td>\n",
       "      <td>1</td>\n",
       "      <td>0.610652</td>\n",
       "      <td>0.554302</td>\n",
       "    </tr>\n",
       "    <tr>\n",
       "      <th>20</th>\n",
       "      <td>F409</td>\n",
       "      <td>R</td>\n",
       "      <td>1</td>\n",
       "      <td>0.495825</td>\n",
       "      <td>0.547288</td>\n",
       "    </tr>\n",
       "    <tr>\n",
       "      <th>21</th>\n",
       "      <td>F411</td>\n",
       "      <td>R</td>\n",
       "      <td>1</td>\n",
       "      <td>0.528633</td>\n",
       "      <td>0.411464</td>\n",
       "    </tr>\n",
       "    <tr>\n",
       "      <th>22</th>\n",
       "      <td>F414</td>\n",
       "      <td>R</td>\n",
       "      <td>1</td>\n",
       "      <td>0.570779</td>\n",
       "      <td>0.741023</td>\n",
       "    </tr>\n",
       "    <tr>\n",
       "      <th>23</th>\n",
       "      <td>F435</td>\n",
       "      <td>R</td>\n",
       "      <td>1</td>\n",
       "      <td>0.439989</td>\n",
       "      <td>0.587616</td>\n",
       "    </tr>\n",
       "    <tr>\n",
       "      <th>24</th>\n",
       "      <td>F437</td>\n",
       "      <td>R</td>\n",
       "      <td>1</td>\n",
       "      <td>0.431615</td>\n",
       "      <td>0.699727</td>\n",
       "    </tr>\n",
       "    <tr>\n",
       "      <th>25</th>\n",
       "      <td>F446</td>\n",
       "      <td>NR</td>\n",
       "      <td>0</td>\n",
       "      <td>0.527913</td>\n",
       "      <td>0.545254</td>\n",
       "    </tr>\n",
       "    <tr>\n",
       "      <th>26</th>\n",
       "      <td>F465</td>\n",
       "      <td>NR</td>\n",
       "      <td>0</td>\n",
       "      <td>0.283960</td>\n",
       "      <td>0.418583</td>\n",
       "    </tr>\n",
       "    <tr>\n",
       "      <th>27</th>\n",
       "      <td>F467</td>\n",
       "      <td>NR</td>\n",
       "      <td>0</td>\n",
       "      <td>0.673879</td>\n",
       "      <td>0.647182</td>\n",
       "    </tr>\n",
       "    <tr>\n",
       "      <th>28</th>\n",
       "      <td>F473</td>\n",
       "      <td>R</td>\n",
       "      <td>1</td>\n",
       "      <td>0.587565</td>\n",
       "      <td>0.734198</td>\n",
       "    </tr>\n",
       "    <tr>\n",
       "      <th>29</th>\n",
       "      <td>F476</td>\n",
       "      <td>NR</td>\n",
       "      <td>0</td>\n",
       "      <td>0.286676</td>\n",
       "      <td>0.432211</td>\n",
       "    </tr>\n",
       "    <tr>\n",
       "      <th>30</th>\n",
       "      <td>F480</td>\n",
       "      <td>NR</td>\n",
       "      <td>0</td>\n",
       "      <td>0.474318</td>\n",
       "      <td>0.577444</td>\n",
       "    </tr>\n",
       "    <tr>\n",
       "      <th>31</th>\n",
       "      <td>F501</td>\n",
       "      <td>R</td>\n",
       "      <td>1</td>\n",
       "      <td>0.494670</td>\n",
       "      <td>0.562230</td>\n",
       "    </tr>\n",
       "    <tr>\n",
       "      <th>32</th>\n",
       "      <td>F537</td>\n",
       "      <td>NR</td>\n",
       "      <td>0</td>\n",
       "      <td>0.362767</td>\n",
       "      <td>0.449265</td>\n",
       "    </tr>\n",
       "  </tbody>\n",
       "</table>\n",
       "</div>"
      ],
      "text/plain": [
       "   SampleID Actual  Actual_bin    Model2   Model10\n",
       "0      F171     NR           0  0.482451  0.558536\n",
       "1      F193     NR           0  0.487318  0.627743\n",
       "2      F196     NR           0  0.469323  0.511365\n",
       "3      F216      R           1  0.435062  0.626339\n",
       "4      F223      R           1  0.434437  0.430856\n",
       "5      F225      R           1  0.545535  0.445934\n",
       "6      F246      R           1  0.366803  0.534663\n",
       "7      F281     NR           0  0.477109  0.598888\n",
       "8      F288      R           1  0.409175  0.385219\n",
       "9      F291      R           1  0.528094  0.773590\n",
       "10     F300      R           1  0.562800  0.428659\n",
       "11     F333      R           1  0.318543  0.519301\n",
       "12     F359     NR           0  0.482299  0.579075\n",
       "13     F368      R           1  0.334350  0.525945\n",
       "14     F369     NR           0  0.317077  0.351710\n",
       "15     F384      R           1  0.670429  0.660206\n",
       "16     F386      R           1  0.697283  0.457395\n",
       "17     F387     NR           0  0.488391  0.560601\n",
       "18     F402      R           1  0.710156  0.682214\n",
       "19     F404      R           1  0.610652  0.554302\n",
       "20     F409      R           1  0.495825  0.547288\n",
       "21     F411      R           1  0.528633  0.411464\n",
       "22     F414      R           1  0.570779  0.741023\n",
       "23     F435      R           1  0.439989  0.587616\n",
       "24     F437      R           1  0.431615  0.699727\n",
       "25     F446     NR           0  0.527913  0.545254\n",
       "26     F465     NR           0  0.283960  0.418583\n",
       "27     F467     NR           0  0.673879  0.647182\n",
       "28     F473      R           1  0.587565  0.734198\n",
       "29     F476     NR           0  0.286676  0.432211\n",
       "30     F480     NR           0  0.474318  0.577444\n",
       "31     F501      R           1  0.494670  0.562230\n",
       "32     F537     NR           0  0.362767  0.449265"
      ]
     },
     "execution_count": 2,
     "metadata": {},
     "output_type": "execute_result"
    }
   ],
   "source": [
    "predictions = pd.read_excel('/home/andrewliyim/lkgres/projects/PRJ0000008_CDMEDRESP/anti_a4b7/output/DM_analyses/03_biological_validation/aumc1/210906/horaizon/predictions_probabilities_anno.xlsx')"
   ]
  },
  {
   "cell_type": "markdown",
   "id": "d2b216d1-c9e7-4dee-928f-cc05f651d58e",
   "metadata": {},
   "source": [
    "ROC"
   ]
  },
  {
   "cell_type": "code",
   "execution_count": 3,
   "id": "426c625a-cfeb-463f-940f-8ea3912d0081",
   "metadata": {},
   "outputs": [
    {
     "data": {
      "text/plain": [
       "0.6692307692307692"
      ]
     },
     "execution_count": 3,
     "metadata": {},
     "output_type": "execute_result"
    }
   ],
   "source": [
    "roc_auc_score(predictions.Actual_bin, predictions.Model2)"
   ]
  },
  {
   "cell_type": "code",
   "execution_count": 4,
   "id": "994d68d1-9032-467e-8a03-c3b808e7c046",
   "metadata": {},
   "outputs": [
    {
     "data": {
      "text/plain": [
       "0.5653846153846154"
      ]
     },
     "execution_count": 4,
     "metadata": {},
     "output_type": "execute_result"
    }
   ],
   "source": [
    "roc_auc_score(predictions.Actual_bin, predictions.Model10)"
   ]
  },
  {
   "cell_type": "code",
   "execution_count": 6,
   "id": "cb82bfee-c2df-4d28-8400-3c6093156fb4",
   "metadata": {},
   "outputs": [
    {
     "data": {
      "text/plain": [
       "<sklearn.metrics._plot.roc_curve.RocCurveDisplay at 0x7f5e483fbcd0>"
      ]
     },
     "execution_count": 6,
     "metadata": {},
     "output_type": "execute_result"
    },
    {
     "data": {
      "image/png": "[encoded data removed]",
      "text/plain": [
       "<Figure size 432x288 with 1 Axes>"
      ]
     },
     "metadata": {
      "needs_background": "light"
     },
     "output_type": "display_data"
    }
   ],
   "source": [
    "RocCurveDisplay.from_predictions(predictions.Actual_bin, predictions.Model2)"
   ]
  },
  {
   "cell_type": "code",
   "execution_count": 11,
   "id": "947d5c66-fedc-458c-9a73-a74a248f63a7",
   "metadata": {},
   "outputs": [
    {
     "data": {
      "text/plain": [
       "<sklearn.metrics._plot.roc_curve.RocCurveDisplay at 0x7f5e481525e0>"
      ]
     },
     "execution_count": 11,
     "metadata": {},
     "output_type": "execute_result"
    },
    {
     "data": {
      "image/png": "[encoded data removed]",
      "text/plain": [
       "<Figure size 432x288 with 1 Axes>"
      ]
     },
     "metadata": {
      "needs_background": "light"
     },
     "output_type": "display_data"
    }
   ],
   "source": [
    "RocCurveDisplay.from_predictions(predictions.Actual_bin, predictions.Model10).savefig(\"model10.png\")"
   ]
  },
  {
   "cell_type": "code",
   "execution_count": 12,
   "id": "405a23a6-7272-4ba1-be94-0c4f0e452b94",
   "metadata": {},
   "outputs": [
    {
     "data": {
      "text/plain": [
       "<Figure size 432x288 with 0 Axes>"
      ]
     },
     "metadata": {},
     "output_type": "display_data"
    }
   ],
   "source": [
    "plt.savefig(\"model10.png\")"
   ]
  },
  {
   "cell_type": "code",
   "execution_count": null,
   "id": "ea3a236b-0254-48fd-ad40-10bcc57b2b18",
   "metadata": {},
   "outputs": [],
   "source": []
  }
 ],
 "metadata": {
  "kernelspec": {
   "display_name": "Python 3 (ipykernel)",
   "language": "python",
   "name": "python3"
  },
  "language_info": {
   "codemirror_mode": {
    "name": "ipython",
    "version": 3
   },
   "file_extension": ".py",
   "mimetype": "text/x-python",
   "name": "python",
   "nbconvert_exporter": "python",
   "pygments_lexer": "ipython3",
   "version": "3.9.7"
  }
 },
 "nbformat": 4,
 "nbformat_minor": 5
}
